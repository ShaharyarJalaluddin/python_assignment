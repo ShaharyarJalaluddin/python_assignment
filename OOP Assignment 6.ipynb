{
 "cells": [
  {
   "cell_type": "code",
   "execution_count": 12,
   "metadata": {},
   "outputs": [
    {
     "name": "stdout",
     "output_type": "stream",
     "text": [
      "Corolla\n",
      "2018\n",
      "black\n"
     ]
    }
   ],
   "source": [
    "class Car():\n",
    "    def __init__(self, name, model, color):\n",
    "        self.name = name\n",
    "        self.model = model\n",
    "        self.color = color\n",
    "        \n",
    "    def modelName(self):\n",
    "        print(f\"model name is {self.model}\")\n",
    "        \n",
    "    def color(self):\n",
    "        print(f\"Color is {self.color}\")\n",
    "        \n",
    "car1 = Car('Corolla', 2018, 'black')\n",
    "print(car1.name)\n",
    "print(car1.model)\n",
    "print(car1.color)\n",
    "\n",
    "car2 = Car('BMW', 2017, 'black')\n",
    "print(car1.name)\n",
    "print(car1.model)\n",
    "print(car1.color)\n",
    "\n",
    "car3 = Car('Mehran', 2013, 'grey')\n",
    "print(car1.name)\n",
    "print(car1.model)\n",
    "print(car1.color)\n",
    "\n",
    "car4 = Car('Corolla', 2018, 'black')\n",
    "print(car1.name)\n",
    "print(car1.model)\n",
    "print(car1.color)"
   ]
  },
  {
   "cell_type": "code",
   "execution_count": null,
   "metadata": {},
   "outputs": [],
   "source": []
  },
  {
   "cell_type": "code",
   "execution_count": null,
   "metadata": {},
   "outputs": [],
   "source": []
  },
  {
   "cell_type": "code",
   "execution_count": null,
   "metadata": {},
   "outputs": [],
   "source": []
  },
  {
   "cell_type": "code",
   "execution_count": null,
   "metadata": {},
   "outputs": [],
   "source": []
  },
  {
   "cell_type": "code",
   "execution_count": null,
   "metadata": {},
   "outputs": [],
   "source": []
  }
 ],
 "metadata": {
  "kernelspec": {
   "display_name": "Python 3",
   "language": "python",
   "name": "python3"
  },
  "language_info": {
   "codemirror_mode": {
    "name": "ipython",
    "version": 3
   },
   "file_extension": ".py",
   "mimetype": "text/x-python",
   "name": "python",
   "nbconvert_exporter": "python",
   "pygments_lexer": "ipython3",
   "version": "3.7.3"
  }
 },
 "nbformat": 4,
 "nbformat_minor": 2
}
